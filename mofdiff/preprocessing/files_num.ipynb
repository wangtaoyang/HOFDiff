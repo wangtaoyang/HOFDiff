{
 "cells": [
  {
   "cell_type": "code",
   "execution_count": 1,
   "metadata": {},
   "outputs": [
    {
     "name": "stdout",
     "output_type": "stream",
     "text": [
      "文件数量小于 100 的子文件夹数量: 622\n"
     ]
    }
   ],
   "source": [
    "import os\n",
    "\n",
    "def count_files_in_subfolders(directory):\n",
    "    file_counts = []\n",
    "    \n",
    "    # 遍历指定目录中的所有子文件夹\n",
    "    for root, dirs, files in os.walk(directory):\n",
    "        if root == directory:\n",
    "            continue  # 跳过根目录\n",
    "        file_counts.append(len(files))\n",
    "    \n",
    "    return file_counts\n",
    "\n",
    "def count_subfolders_with_few_files(file_counts, threshold):\n",
    "    count = sum(1 for count in file_counts if count < threshold)\n",
    "    return count\n",
    "\n",
    "if __name__ == \"__main__\":\n",
    "    directory = \"/opt/wty/hof_synthesis/HOF/MOFDiff/mofdiff/data/hof_data\"  # 替换为你的目录路径\n",
    "    threshold = 100  # 替换为你的阈值\n",
    "    file_counts = count_files_in_subfolders(directory)\n",
    "    num_subfolders = count_subfolders_with_few_files(file_counts, threshold)\n",
    "    print(f\"文件数量小于 {threshold} 的子文件夹数量: {num_subfolders}\")"
   ]
  }
 ],
 "metadata": {
  "kernelspec": {
   "display_name": "Python 3",
   "language": "python",
   "name": "python3"
  },
  "language_info": {
   "codemirror_mode": {
    "name": "ipython",
    "version": 3
   },
   "file_extension": ".py",
   "mimetype": "text/x-python",
   "name": "python",
   "nbconvert_exporter": "python",
   "pygments_lexer": "ipython3",
   "version": "3.10.14"
  }
 },
 "nbformat": 4,
 "nbformat_minor": 2
}
